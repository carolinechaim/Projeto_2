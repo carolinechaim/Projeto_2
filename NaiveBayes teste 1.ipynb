{
 "cells": [
  {
   "cell_type": "code",
   "execution_count": 52,
   "metadata": {},
   "outputs": [],
   "source": [
    "import pandas as pd\n",
    "import numpy as np\n",
    "from IPython.display import display"
   ]
  },
  {
   "cell_type": "code",
   "execution_count": 53,
   "metadata": {},
   "outputs": [],
   "source": [
    "import re \n",
    "def cleanup(text):\n",
    "\n",
    "    import string\n",
    "    punctuation = '[!-.:?;]' # Note que os sinais [] são delimitadores de um conjunto.\n",
    "    pattern = re.compile(punctuation)\n",
    "    text_subbed = re.sub(pattern, ' ', text)\n",
    "    return text_subbed"
   ]
  },
  {
   "cell_type": "code",
   "execution_count": 54,
   "metadata": {},
   "outputs": [],
   "source": [
    "treinamento = pd.read_excel(\"FelipeNeto_1.xlsx\")"
   ]
  },
  {
   "cell_type": "code",
   "execution_count": 91,
   "metadata": {},
   "outputs": [],
   "source": [
    "ama = treinamento[treinamento[\"Valor\"]==0]\n",
    "ama = ama[\"Treinamento\"].str.cat()\n",
    "\n",
    "ama = cleanup(ama).split()\n",
    "set(ama);\n",
    "serie_ama=pd.Series(ama);"
   ]
  },
  {
   "cell_type": "code",
   "execution_count": 95,
   "metadata": {},
   "outputs": [],
   "source": [
    "tabela_ama = serie_ama.value_counts()"
   ]
  },
  {
   "cell_type": "code",
   "execution_count": 79,
   "metadata": {},
   "outputs": [],
   "source": [
    "concorda = treinamento[treinamento[\"Valor\"]==1]\n",
    "concorda = concorda[\"Treinamento\"].str.cat()\n",
    "\n",
    "concorda = cleanup(concorda).split()\n",
    "set(concorda);"
   ]
  },
  {
   "cell_type": "code",
   "execution_count": 80,
   "metadata": {},
   "outputs": [],
   "source": [
    "discorda = treinamento[treinamento[\"Valor\"]==2]\n",
    "discorda = discorda[\"Treinamento\"].str.cat()\n",
    "\n",
    "discorda = cleanup(discorda).split()\n",
    "set(discorda);"
   ]
  },
  {
   "cell_type": "code",
   "execution_count": 81,
   "metadata": {},
   "outputs": [],
   "source": [
    "odeia = treinamento[treinamento[\"Valor\"]==3]\n",
    "odeia = odeia[\"Treinamento\"].str.cat()\n",
    "\n",
    "odeia = cleanup(odeia).split()\n",
    "set(odeia);"
   ]
  },
  {
   "cell_type": "code",
   "execution_count": 82,
   "metadata": {},
   "outputs": [],
   "source": [
    "desrelacionado = treinamento[treinamento[\"Valor\"]==4]\n",
    "desrelacionado = desrelacionado[\"Treinamento\"].str.cat()\n",
    "\n",
    "desrelacionado = cleanup(desrelacionado).split()\n",
    "set(desrelacionado);"
   ]
  },
  {
   "cell_type": "code",
   "execution_count": null,
   "metadata": {},
   "outputs": [],
   "source": []
  }
 ],
 "metadata": {
  "kernelspec": {
   "display_name": "Python 3",
   "language": "python",
   "name": "python3"
  },
  "language_info": {
   "codemirror_mode": {
    "name": "ipython",
    "version": 3
   },
   "file_extension": ".py",
   "mimetype": "text/x-python",
   "name": "python",
   "nbconvert_exporter": "python",
   "pygments_lexer": "ipython3",
   "version": "3.7.1"
  }
 },
 "nbformat": 4,
 "nbformat_minor": 2
}
