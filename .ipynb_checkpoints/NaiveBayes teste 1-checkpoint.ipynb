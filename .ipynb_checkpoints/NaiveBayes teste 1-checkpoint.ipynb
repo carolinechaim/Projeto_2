{
 "cells": [
  {
   "cell_type": "code",
   "execution_count": 1,
   "metadata": {},
   "outputs": [],
   "source": [
    "import pandas as pd\n",
    "import numpy as np\n",
    "from IPython.display import display"
   ]
  },
  {
   "cell_type": "code",
   "execution_count": 2,
   "metadata": {},
   "outputs": [],
   "source": [
    "import re \n",
    "def cleanup(text):\n",
    "\n",
    "    import string\n",
    "    punctuation = '[!-.:?;]' # Note que os sinais [] são delimitadores de um conjunto.\n",
    "    pattern = re.compile(punctuation)\n",
    "    text_subbed = re.sub(pattern, ' ', text)\n",
    "    return text_subbed"
   ]
  },
  {
   "cell_type": "code",
   "execution_count": 37,
   "metadata": {},
   "outputs": [
    {
     "data": {
      "text/plain": [
       "4    0.308081\n",
       "3    0.262626\n",
       "1    0.205808\n",
       "2    0.137626\n",
       "0    0.085859\n",
       "Name: Valor, dtype: float64"
      ]
     },
     "execution_count": 37,
     "metadata": {},
     "output_type": "execute_result"
    }
   ],
   "source": [
    "treinamento1 = pd.read_excel(\"FelipeNeto_1.xlsx\",sheet_name = 'Treinamento', index = False)\n",
    "treinamento2 = pd.read_excel(\"FelipeNeto_2.xlsx\",sheet_name = 'Treinamento', index = False)\n",
    "treinamento3 = pd.read_excel(\"FelipeNeto_3.xlsx\",sheet_name = 'Treinamento', index = False)\n",
    "treinamento4 = pd.read_excel(\"FelipeNeto_4.xlsx\",sheet_name = 'Treinamento', index = False)\n",
    "\n",
    "lista_treinamentos=[treinamento1,treinamento2,treinamento3,treinamento4]\n",
    "\n",
    "treinamento=pd.concat(lista_treinamentos,sort=False) #Juntando todas as planilhas\n",
    "\n",
    "probabilidades=treinamento[\"Valor\"].value_counts(True)#Calculando as frequências relativas de cada categoria"
   ]
  },
  {
   "cell_type": "code",
   "execution_count": 38,
   "metadata": {},
   "outputs": [
    {
     "name": "stdout",
     "output_type": "stream",
     "text": [
      "0.08585858585858586 0.2058080808080808\n"
     ]
    }
   ],
   "source": [
    "#prob_ama = probabilidades[0]\n",
    "#prob_concorda = probabilidades[1]\n",
    "#prob_discorda = probabilidades[2]\n",
    "#prob_odeia = probabilidades[3]\n",
    "#prob_desrel = probabilidades[4]"
   ]
  },
  {
   "cell_type": "code",
   "execution_count": 4,
   "metadata": {},
   "outputs": [],
   "source": [
    "ama = treinamento[treinamento[\"Valor\"]==0]\n",
    "ama = ama[\"Treinamento\"].str.cat()\n",
    "\n",
    "ama = cleanup(ama).split()\n",
    "set(ama);\n",
    "serie_ama=pd.Series(ama)"
   ]
  },
  {
   "cell_type": "code",
   "execution_count": 5,
   "metadata": {},
   "outputs": [],
   "source": [
    "tabela_ama = serie_ama.value_counts(True)\n",
    "tabela_ama;"
   ]
  },
  {
   "cell_type": "code",
   "execution_count": 6,
   "metadata": {},
   "outputs": [],
   "source": [
    "concorda = treinamento[treinamento[\"Valor\"]==1]\n",
    "concorda = concorda[\"Treinamento\"].str.cat()\n",
    "\n",
    "concorda = cleanup(concorda).split()\n",
    "set(concorda);\n",
    "serie_concorda=pd.Series(concorda)"
   ]
  },
  {
   "cell_type": "code",
   "execution_count": 7,
   "metadata": {},
   "outputs": [],
   "source": [
    "tabela_concorda = serie_concorda.value_counts(True)\n",
    "tabela_concorda;"
   ]
  },
  {
   "cell_type": "code",
   "execution_count": 8,
   "metadata": {},
   "outputs": [],
   "source": [
    "discorda = treinamento[treinamento[\"Valor\"]==2]\n",
    "discorda = discorda[\"Treinamento\"].str.cat()\n",
    "\n",
    "discorda = cleanup(discorda).split()\n",
    "set(discorda);\n",
    "serie_discorda=pd.Series(discorda)"
   ]
  },
  {
   "cell_type": "code",
   "execution_count": 9,
   "metadata": {},
   "outputs": [],
   "source": [
    "tabela_discorda = serie_discorda.value_counts(True)\n",
    "tabela_discorda;"
   ]
  },
  {
   "cell_type": "code",
   "execution_count": 10,
   "metadata": {},
   "outputs": [],
   "source": [
    "odeia = treinamento[treinamento[\"Valor\"]==3]\n",
    "odeia = odeia[\"Treinamento\"].str.cat()\n",
    "\n",
    "odeia = cleanup(odeia).split()\n",
    "set(odeia);\n",
    "\n",
    "serie_odeia=pd.Series(odeia)"
   ]
  },
  {
   "cell_type": "code",
   "execution_count": 11,
   "metadata": {},
   "outputs": [],
   "source": [
    "tabela_odeia = serie_odeia.value_counts(True)\n",
    "tabela_odeia;"
   ]
  },
  {
   "cell_type": "code",
   "execution_count": 12,
   "metadata": {},
   "outputs": [],
   "source": [
    "desrelacionado = treinamento[treinamento[\"Valor\"]==4]\n",
    "desrelacionado = desrelacionado[\"Treinamento\"].str.cat()\n",
    "\n",
    "desrelacionado = cleanup(desrelacionado).split()\n",
    "set(desrelacionado);\n",
    "\n",
    "serie_desrelacionado=pd.Series(desrelacionado)"
   ]
  },
  {
   "cell_type": "code",
   "execution_count": 13,
   "metadata": {},
   "outputs": [],
   "source": [
    "tabela_desrel = serie_desrelacionado.value_counts(True)\n",
    "tabela_desrel;"
   ]
  },
  {
   "cell_type": "code",
   "execution_count": 35,
   "metadata": {},
   "outputs": [],
   "source": [
    "def classifica_palavra(frase):\n",
    "    lista_palavras = frase.split()\n",
    "    p0 = 1\n",
    "    p1 = 1\n",
    "    p2 = 1\n",
    "    p3 = 1\n",
    "    p4 = 1\n",
    "    for word in lista_palavras:\n",
    "        if word in tabela_ama.index:\n",
    "            pword0 = tabela_ama[word]\n",
    "        else:\n",
    "            pword0 = 1\n",
    "        if word in tabela_concorda.index:\n",
    "            pword1 = tabela_concorda[word]\n",
    "        else:\n",
    "            pword1 = 1\n",
    "        if word in tabela_discorda.index:\n",
    "            pword2 = tabela_discorda[word]\n",
    "        else:\n",
    "            pword2 = 1\n",
    "        if word in tabela_odeia.index:\n",
    "            pword3 = tabela_odeia[word]\n",
    "        else:\n",
    "            pword3 = 1\n",
    "        if word in tabela_desrel.index:\n",
    "            pword4 = tabela_desrel[word]\n",
    "        else:\n",
    "            pword4 = 1\n",
    "        p0 *= pword0\n",
    "        p1 *= pword1\n",
    "        p2 *= pword2\n",
    "        p3 *= pword3\n",
    "        p4 *= pword4\n",
    "    if p0 == 1:\n",
    "        p0 -= 1\n",
    "    if p1 == 1:\n",
    "        p1 -= 1\n",
    "    if p2 == 1:\n",
    "        p2 -= 1\n",
    "    if p3 == 1:\n",
    "        p3 -= 1\n",
    "    if p4 == 1:\n",
    "        p4 -= 1\n",
    "#    p0 *= prob_ama\n",
    "#    p1 *= prob_concorda\n",
    "#    p2 *= prob_discorda\n",
    "#   p3 *= prob_odeia\n",
    "#   p4 *= prob_desrel\n",
    "    if (p0 > p1) and (p0 > p2) and (p0 > p3) and (p0 > p4):\n",
    "        return \"Ama\"\n",
    "    elif (p1 > p0) and (p1 > p2) and (p1 > p3) and (p1 > p4):\n",
    "        return \"Concorda\"\n",
    "    elif (p2 > p0) and (p2 > p1) and (p2 > p3) and (p2 > p4):\n",
    "        return \"Discorda\"\n",
    "    elif (p3 > p0) and (p3 > p1) and (p3 > p2) and (p3 > p4):\n",
    "        return \"Odeia\"\n",
    "    elif (p4 > p0) and (p4 > p1) and (p4 > p2) and (p4 > p3):\n",
    "        return \"Desrelacionado\"\n",
    "    \n",
    "    return \"p0: {0} - p1: {1} - p2: {2} - p3: {3} - p4: {4}\".format(p0,p1,p2,p3,p4)"
   ]
  },
  {
   "cell_type": "code",
   "execution_count": 36,
   "metadata": {},
   "outputs": [
    {
     "name": "stdout",
     "output_type": "stream",
     "text": [
      "Odeia\n"
     ]
    }
   ],
   "source": [
    "experimento = \"legal\"\n",
    "print(classifica_palavra(experimento))"
   ]
  },
  {
   "cell_type": "code",
   "execution_count": 39,
   "metadata": {},
   "outputs": [],
   "source": [
    "teste1 = pd.read_excel(\"FelipeNeto_1.xlsx\",sheet_name = 'Teste', index = False)\n",
    "teste2 = pd.read_excel(\"FelipeNeto_2.xlsx\",sheet_name = 'Teste', index = False)\n",
    "teste3 = pd.read_excel(\"FelipeNeto_3.xlsx\",sheet_name = 'Teste', index = False)\n",
    "teste4 = pd.read_excel(\"FelipeNeto_4.xlsx\",sheet_name = 'Teste', index = False)\n",
    "\n",
    "lista_teste=[teste1,teste2,teste3,teste4]\n",
    "teste=pd.concat(lista_teste,sort=False) #Juntando todas as planilhas"
   ]
  },
  {
   "cell_type": "code",
   "execution_count": null,
   "metadata": {},
   "outputs": [],
   "source": []
  },
  {
   "cell_type": "code",
   "execution_count": null,
   "metadata": {},
   "outputs": [],
   "source": []
  }
 ],
 "metadata": {
  "kernelspec": {
   "display_name": "Python 3",
   "language": "python",
   "name": "python3"
  },
  "language_info": {
   "codemirror_mode": {
    "name": "ipython",
    "version": 3
   },
   "file_extension": ".py",
   "mimetype": "text/x-python",
   "name": "python",
   "nbconvert_exporter": "python",
   "pygments_lexer": "ipython3",
   "version": "3.7.1"
  }
 },
 "nbformat": 4,
 "nbformat_minor": 2
}
