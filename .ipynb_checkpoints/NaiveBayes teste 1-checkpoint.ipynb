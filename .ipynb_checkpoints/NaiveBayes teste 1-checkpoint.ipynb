{
 "cells": [
  {
   "cell_type": "code",
   "execution_count": 107,
   "metadata": {},
   "outputs": [],
   "source": [
    "import pandas as pd\n",
    "import numpy as np\n",
    "import time\n",
    "from IPython.display import display"
   ]
  },
  {
   "cell_type": "code",
   "execution_count": 3,
   "metadata": {},
   "outputs": [],
   "source": [
    "import re \n",
    "def cleanup(text):\n",
    "\n",
    "    import string\n",
    "    punctuation = '[!\\-.:?;]' # Note que os sinais [] são delimitadores de um conjunto.\n",
    "    pattern = re.compile(punctuation)\n",
    "    text_subbed = re.sub(pattern, ' ', text)\n",
    "    return text_subbed"
   ]
  },
  {
   "cell_type": "code",
   "execution_count": 4,
   "metadata": {},
   "outputs": [],
   "source": [
    "treinamento1 = pd.read_excel(\"FelipeNeto_1.xlsx\",sheet_name = 'Treinamento', index = False)\n",
    "treinamento2 = pd.read_excel(\"FelipeNeto_2.xlsx\",sheet_name = 'Treinamento', index = False)\n",
    "treinamento3 = pd.read_excel(\"FelipeNeto_3.xlsx\",sheet_name = 'Treinamento', index = False)\n",
    "treinamento4 = pd.read_excel(\"FelipeNeto_4.xlsx\",sheet_name = 'Treinamento', index = False)\n",
    "\n",
    "lista_treinamentos=[treinamento1,treinamento2,treinamento3,treinamento4]\n",
    "\n",
    "treinamento=pd.concat(lista_treinamentos,sort=False) #Juntando todas as planilhas\n",
    "\n",
    "probabilidades=treinamento[\"Valor\"].value_counts(True)#Calculando as frequências relativas de cada categoria"
   ]
  },
  {
   "cell_type": "code",
   "execution_count": 5,
   "metadata": {},
   "outputs": [],
   "source": [
    "prob_ama = probabilidades[0]\n",
    "prob_concorda = probabilidades[1]\n",
    "prob_discorda = probabilidades[2]\n",
    "prob_odeia = probabilidades[3]\n",
    "prob_desrel = probabilidades[4]"
   ]
  },
  {
   "cell_type": "code",
   "execution_count": 44,
   "metadata": {},
   "outputs": [],
   "source": [
    "ama = treinamento[treinamento[\"Valor\"]==0]\n",
    "ama = ama[\"Treinamento\"].str.cat()\n",
    "\n",
    "ama = cleanup(ama).split()\n",
    "set(ama);\n",
    "serie_ama=pd.Series(ama)"
   ]
  },
  {
   "cell_type": "code",
   "execution_count": 47,
   "metadata": {},
   "outputs": [
    {
     "data": {
      "text/plain": [
       "felipe                  0.051020\n",
       "neto                    0.050170\n",
       "o                       0.033163\n",
       "e                       0.022959\n",
       "que                     0.020408\n",
       "de                      0.020408\n",
       "a                       0.019558\n",
       "do                      0.017857\n",
       "eu                      0.016156\n",
       "é                       0.014456\n",
       "https                   0.012755\n",
       "//t                     0.012755\n",
       "mais                    0.010204\n",
       "ele                     0.010204\n",
       "os                      0.009354\n",
       "não                     0.008503\n",
       "q                       0.007653\n",
       "@felipeneto             0.007653\n",
       "pra                     0.006803\n",
       "com                     0.005952\n",
       "se                      0.005952\n",
       "para                    0.005102\n",
       "meu                     0.005102\n",
       "um                      0.005102\n",
       "ser                     0.005102\n",
       "mas                     0.004252\n",
       "por                     0.004252\n",
       "em                      0.004252\n",
       "da                      0.004252\n",
       "neto,                   0.004252\n",
       "                          ...   \n",
       "sendo                   0.000850\n",
       "conta                   0.000850\n",
       "co/vvx0ih9pbbfelipe     0.000850\n",
       "idiota,                 0.000850\n",
       "estratégico             0.000850\n",
       "youtube                 0.000850\n",
       "mãe                     0.000850\n",
       "uso                     0.000850\n",
       "família                 0.000850\n",
       "empatia                 0.000850\n",
       "deputado@lucasolidao    0.000850\n",
       "condena                 0.000850\n",
       "estamos                 0.000850\n",
       "anis                    0.000850\n",
       "vocês                   0.000850\n",
       "certo                   0.000850\n",
       "criticando              0.000850\n",
       "crepúsculo),            0.000850\n",
       "cadê                    0.000850\n",
       "#felipenetomeorgulha    0.000850\n",
       "investe                 0.000850\n",
       "vc@nv_rodrigo           0.000850\n",
       "falam                   0.000850\n",
       "internet                0.000850\n",
       "conheço                 0.000850\n",
       "surgir                  0.000850\n",
       "reais                   0.000850\n",
       "defende                 0.000850\n",
       "vai                     0.000850\n",
       "sinceramente            0.000850\n",
       "Length: 580, dtype: float64"
      ]
     },
     "execution_count": 47,
     "metadata": {},
     "output_type": "execute_result"
    }
   ],
   "source": [
    "tabela_ama = serie_ama.value_counts(True)\n",
    "tabela_ama"
   ]
  },
  {
   "cell_type": "code",
   "execution_count": 8,
   "metadata": {},
   "outputs": [],
   "source": [
    "concorda = treinamento[treinamento[\"Valor\"]==1]\n",
    "concorda = concorda[\"Treinamento\"].str.cat()\n",
    "\n",
    "concorda = cleanup(concorda).split()\n",
    "set(concorda);\n",
    "serie_concorda=pd.Series(concorda)"
   ]
  },
  {
   "cell_type": "code",
   "execution_count": 9,
   "metadata": {},
   "outputs": [],
   "source": [
    "tabela_concorda = serie_concorda.value_counts(True)\n",
    "tabela_concorda;"
   ]
  },
  {
   "cell_type": "code",
   "execution_count": 10,
   "metadata": {},
   "outputs": [],
   "source": [
    "discorda = treinamento[treinamento[\"Valor\"]==2]\n",
    "discorda = discorda[\"Treinamento\"].str.cat()\n",
    "\n",
    "discorda = cleanup(discorda).split()\n",
    "set(discorda);\n",
    "serie_discorda=pd.Series(discorda)"
   ]
  },
  {
   "cell_type": "code",
   "execution_count": 11,
   "metadata": {},
   "outputs": [],
   "source": [
    "tabela_discorda = serie_discorda.value_counts(True)\n",
    "tabela_discorda;"
   ]
  },
  {
   "cell_type": "code",
   "execution_count": 12,
   "metadata": {},
   "outputs": [],
   "source": [
    "odeia = treinamento[treinamento[\"Valor\"]==3]\n",
    "odeia = odeia[\"Treinamento\"].str.cat()\n",
    "\n",
    "odeia = cleanup(odeia).split()\n",
    "set(odeia);\n",
    "\n",
    "serie_odeia=pd.Series(odeia)"
   ]
  },
  {
   "cell_type": "code",
   "execution_count": 13,
   "metadata": {},
   "outputs": [],
   "source": [
    "tabela_odeia = serie_odeia.value_counts(True)\n",
    "tabela_odeia;"
   ]
  },
  {
   "cell_type": "code",
   "execution_count": 14,
   "metadata": {},
   "outputs": [],
   "source": [
    "desrelacionado = treinamento[treinamento[\"Valor\"]==4]\n",
    "desrelacionado = desrelacionado[\"Treinamento\"].str.cat()\n",
    "\n",
    "desrelacionado = cleanup(desrelacionado).split()\n",
    "set(desrelacionado);\n",
    "\n",
    "serie_desrelacionado=pd.Series(desrelacionado)"
   ]
  },
  {
   "cell_type": "code",
   "execution_count": 15,
   "metadata": {},
   "outputs": [],
   "source": [
    "tabela_desrel = serie_desrelacionado.value_counts(True)\n",
    "tabela_desrel;"
   ]
  },
  {
   "cell_type": "code",
   "execution_count": 16,
   "metadata": {},
   "outputs": [],
   "source": [
    "def classifica_palavra(frase):\n",
    "    lista_palavras = frase.split()\n",
    "    p0 = 1\n",
    "    p1 = 1\n",
    "    p2 = 1\n",
    "    p3 = 1\n",
    "    p4 = 1\n",
    "    for word in lista_palavras:\n",
    "        if word in tabela_ama.index:\n",
    "            pword0 = tabela_ama[word]\n",
    "        else:\n",
    "            pword0 = 1\n",
    "        if word in tabela_concorda.index:\n",
    "            pword1 = tabela_concorda[word]\n",
    "        else:\n",
    "            pword1 = 1\n",
    "        if word in tabela_discorda.index:\n",
    "            pword2 = tabela_discorda[word]\n",
    "        else:\n",
    "            pword2 = 1\n",
    "        if word in tabela_odeia.index:\n",
    "            pword3 = tabela_odeia[word]\n",
    "        else:\n",
    "            pword3 = 1\n",
    "        if word in tabela_desrel.index:\n",
    "            pword4 = tabela_desrel[word]\n",
    "        else:\n",
    "            pword4 = 1\n",
    "        p0 *= pword0\n",
    "        p1 *= pword1\n",
    "        p2 *= pword2\n",
    "        p3 *= pword3\n",
    "        p4 *= pword4\n",
    "    if p0 == 1:\n",
    "        p0 -= 1\n",
    "    if p1 == 1:\n",
    "        p1 -= 1\n",
    "    if p2 == 1:\n",
    "        p2 -= 1\n",
    "    if p3 == 1:\n",
    "        p3 -= 1\n",
    "    if p4 == 1:\n",
    "        p4 -= 1\n",
    "    p0 *= prob_ama\n",
    "    p1 *= prob_concorda\n",
    "    p2 *= prob_discorda\n",
    "    p3 *= prob_odeia\n",
    "    p4 *= prob_desrel\n",
    "    if (p0 > p1) and (p0 > p2) and (p0 > p3) and (p0 > p4):\n",
    "        return \"Ama\"\n",
    "    elif (p1 > p0) and (p1 > p2) and (p1 > p3) and (p1 > p4):\n",
    "        return \"Concorda\"\n",
    "    elif (p2 > p0) and (p2 > p1) and (p2 > p3) and (p2 > p4):\n",
    "        return \"Discorda\"\n",
    "    elif (p3 > p0) and (p3 > p1) and (p3 > p2) and (p3 > p4):\n",
    "        return \"Odeia\"\n",
    "    elif (p4 > p0) and (p4 > p1) and (p4 > p2) and (p4 > p3):\n",
    "        return \"Desrelacionado\"\n",
    "    \n",
    "    return \"p0: {0} - p1: {1} - p2: {2} - p3: {3} - p4: {4}\".format(p0,p1,p2,p3,p4)"
   ]
  },
  {
   "cell_type": "code",
   "execution_count": 17,
   "metadata": {},
   "outputs": [
    {
     "name": "stdout",
     "output_type": "stream",
     "text": [
      "Concorda\n"
     ]
    }
   ],
   "source": [
    "experimento = \"herói\"\n",
    "print(classifica_palavra(experimento))"
   ]
  },
  {
   "cell_type": "code",
   "execution_count": 120,
   "metadata": {},
   "outputs": [
    {
     "ename": "KeyboardInterrupt",
     "evalue": "",
     "output_type": "error",
     "traceback": [
      "\u001b[1;31m---------------------------------------------------------------------------\u001b[0m",
      "\u001b[1;31mKeyboardInterrupt\u001b[0m                         Traceback (most recent call last)",
      "\u001b[1;32m<ipython-input-120-ef2039ad0c3d>\u001b[0m in \u001b[0;36m<module>\u001b[1;34m\u001b[0m\n\u001b[0;32m     22\u001b[0m \u001b[1;33m\u001b[0m\u001b[0m\n\u001b[0;32m     23\u001b[0m     \u001b[0mi\u001b[0m \u001b[1;33m+=\u001b[0m \u001b[1;36m1\u001b[0m\u001b[1;33m\u001b[0m\u001b[1;33m\u001b[0m\u001b[0m\n\u001b[1;32m---> 24\u001b[1;33m     \u001b[0mtime\u001b[0m\u001b[1;33m.\u001b[0m\u001b[0msleep\u001b[0m\u001b[1;33m(\u001b[0m\u001b[1;36m10\u001b[0m\u001b[1;33m)\u001b[0m\u001b[1;33m\u001b[0m\u001b[1;33m\u001b[0m\u001b[0m\n\u001b[0m\u001b[0;32m     25\u001b[0m \u001b[1;33m\u001b[0m\u001b[0m\n\u001b[0;32m     26\u001b[0m \u001b[1;33m\u001b[0m\u001b[0m\n",
      "\u001b[1;31mKeyboardInterrupt\u001b[0m: "
     ]
    }
   ],
   "source": [
    "i = 0\n",
    "teste_x = pd.read_excel(\"FelipeNeto.xlsx\",sheet_name = 'Teste', index = False)\n",
    "while True:\n",
    "    \n",
    "    lista_teste =[teste_x]\n",
    "    teste = pd.concat(lista_teste,sort=False) #Juntando todas as planilhas\n",
    "    \n",
    "    teste_idx = teste.set_index(\"Teste\")\n",
    "    lista_tweets = list(teste_idx.index)\n",
    "    \n",
    "    \n",
    "    for tweet in lista_tweets:\n",
    "        teste_idx.loc[tweet,\"Classificação\"] = classifica_palavra(tweet)\n",
    "    \n",
    "    writer = pd.ExcelWriter('FelipeNetoNaiveBayes_{0}.xlsx'.format(i), engine='xlsxwriter')\n",
    "    teste_idx.to_excel(writer, sheet_name='Teste')\n",
    "    \n",
    "    writer.save()\n",
    "    \n",
    "    del teste_x\n",
    "    teste_x = pd.read_excel(\"FelipeNeto.xlsx\",sheet_name = 'Teste', index = False)\n",
    "    \n",
    "    i += 1\n",
    "    time.sleep(10)\n",
    "\n",
    "    "
   ]
  },
  {
   "cell_type": "code",
   "execution_count": null,
   "metadata": {},
   "outputs": [],
   "source": []
  },
  {
   "cell_type": "code",
   "execution_count": null,
   "metadata": {},
   "outputs": [],
   "source": []
  }
 ],
 "metadata": {
  "kernelspec": {
   "display_name": "Python 3",
   "language": "python",
   "name": "python3"
  },
  "language_info": {
   "codemirror_mode": {
    "name": "ipython",
    "version": 3
   },
   "file_extension": ".py",
   "mimetype": "text/x-python",
   "name": "python",
   "nbconvert_exporter": "python",
   "pygments_lexer": "ipython3",
   "version": "3.7.1"
  }
 },
 "nbformat": 4,
 "nbformat_minor": 2
}
